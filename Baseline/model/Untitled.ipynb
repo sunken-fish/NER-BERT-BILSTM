{
 "cells": [
  {
   "cell_type": "code",
   "execution_count": 1,
   "id": "ba713728-b334-4403-8945-7696a8f8a827",
   "metadata": {},
   "outputs": [
    {
     "name": "stderr",
     "output_type": "stream",
     "text": [
      "/home/ma-user/anaconda3/envs/PyTorch-1.8/lib/python3.7/site-packages/requests/__init__.py:104: RequestsDependencyWarning: urllib3 (1.26.12) or chardet (5.0.0)/charset_normalizer (2.0.12) doesn't match a supported version!\n",
      "  RequestsDependencyWarning)\n",
      "Some weights of the model checkpoint at pretrained_bert_models/bert-base-chinese were not used when initializing BertModel: ['cls.seq_relationship.bias', 'cls.predictions.transform.LayerNorm.bias', 'cls.predictions.transform.dense.bias', 'cls.predictions.transform.dense.weight', 'cls.seq_relationship.weight', 'cls.predictions.transform.LayerNorm.weight', 'cls.predictions.decoder.weight', 'cls.predictions.bias']\n",
      "- This IS expected if you are initializing BertModel from the checkpoint of a model trained on another task or with another architecture (e.g. initializing a BertForSequenceClassification model from a BertForPreTraining model).\n",
      "- This IS NOT expected if you are initializing BertModel from the checkpoint of a model that you expect to be exactly identical (initializing a BertForSequenceClassification model from a BertForSequenceClassification model).\n"
     ]
    },
    {
     "name": "stdout",
     "output_type": "stream",
     "text": [
      "The output dimension is: 768\n"
     ]
    }
   ],
   "source": [
    "from transformers import BertModel, BertConfig\n",
    "\n",
    "# 加载预训练的 BERT 模型\n",
    "model = BertModel.from_pretrained('pretrained_bert_models/bert-base-chinese')\n",
    "\n",
    "# 获取模型配置\n",
    "config = model.config\n",
    "\n",
    "# 输出维度就是隐藏层的大小\n",
    "print('The output dimension is:', config.hidden_size)"
   ]
  },
  {
   "cell_type": "code",
   "execution_count": 3,
   "id": "0ffe439e-7089-4bf3-a807-a7e672396dd7",
   "metadata": {},
   "outputs": [
    {
     "name": "stdout",
     "output_type": "stream",
     "text": [
      "The output dimension is: 40\n"
     ]
    }
   ],
   "source": [
    "import torch\n",
    "import torch.nn as nn\n",
    "\n",
    "# 假设你的 BiLSTM 模型是这样定义的\n",
    "class BiLSTM(nn.Module):\n",
    "    def __init__(self, input_size, hidden_size, num_layers):\n",
    "        super(BiLSTM, self).__init__()\n",
    "        self.hidden_size = hidden_size\n",
    "        self.num_layers = num_layers\n",
    "        self.lstm = nn.LSTM(input_size, hidden_size, num_layers, batch_first=True, bidirectional=True)\n",
    "\n",
    "    # ... 其他代码 ...\n",
    "\n",
    "# 创建一个 BiLSTM 实例\n",
    "model = BiLSTM(input_size=10, hidden_size=20, num_layers=2)\n",
    "\n",
    "# 输出维度是隐藏层大小的两倍（因为是双向的）\n",
    "print('The output dimension is:', model.hidden_size * 2)"
   ]
  },
  {
   "cell_type": "code",
   "execution_count": null,
   "id": "437352e5-53e5-4988-b524-dbb755e09131",
   "metadata": {},
   "outputs": [],
   "source": []
  }
 ],
 "metadata": {
  "kernelspec": {
   "display_name": "PyTorch-1.8",
   "language": "python",
   "name": "pytorch-1.8"
  },
  "language_info": {
   "codemirror_mode": {
    "name": "ipython",
    "version": 3
   },
   "file_extension": ".py",
   "mimetype": "text/x-python",
   "name": "python",
   "nbconvert_exporter": "python",
   "pygments_lexer": "ipython3",
   "version": "3.7.10"
  }
 },
 "nbformat": 4,
 "nbformat_minor": 5
}
