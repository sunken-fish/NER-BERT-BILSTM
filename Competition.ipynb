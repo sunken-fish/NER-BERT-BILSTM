{
 "cells": [
  {
   "cell_type": "markdown",
   "id": "f4c2f7cf-3edc-4026-9ea7-5dcb86992b1e",
   "metadata": {},
   "source": [
    "# NER 命名实体识别任务baseline\n",
    "本示例仅提供完整的运行流程，供大家进行初步学习<br>\n",
    "自行尝试须注意基本配置与文件目录的定义<br>\n",
    "具体脚本内容可在相应.py文件内查看"
   ]
  },
  {
   "cell_type": "markdown",
   "id": "5f4c404b-113b-4c15-82cd-a3a49dc0ca2e",
   "metadata": {},
   "source": [
    "### 1.基本配置\n",
    "安装脚本依赖库<br>\n",
    "每次重启notebook须重新安装"
   ]
  },
  {
   "cell_type": "code",
   "execution_count": 1,
   "id": "3993833d-a987-48be-9752-e43a39a0c1f2",
   "metadata": {},
   "outputs": [
    {
     "name": "stdout",
     "output_type": "stream",
     "text": [
      "Looking in indexes: http://repo.myhuaweicloud.com/repository/pypi/simple\n",
      "Collecting docopt\n",
      "  Downloading http://repo.myhuaweicloud.com/repository/pypi/packages/a2/55/8f8cab2afd404cf578136ef2cc5dfb50baa1761b68c9da1fb1e4eed343c9/docopt-0.6.2.tar.gz (25 kB)\n",
      "Building wheels for collected packages: docopt\n",
      "  Building wheel for docopt (setup.py) ... \u001b[?25ldone\n",
      "\u001b[?25h  Created wheel for docopt: filename=docopt-0.6.2-py2.py3-none-any.whl size=13706 sha256=dd456cdfe2b46b704bb5991672a5fe01c510e728a6a0804012dcb0c6580ec835\n",
      "  Stored in directory: /home/ma-user/.cache/pip/wheels/6a/96/4d/255bd44721c1c199348fc6c9090b061b587eeaf5a7d6315c08\n",
      "Successfully built docopt\n",
      "Installing collected packages: docopt\n",
      "Successfully installed docopt-0.6.2\n",
      "\u001b[33mWARNING: You are using pip version 21.0.1; however, version 23.0.1 is available.\n",
      "You should consider upgrading via the '/home/ma-user/anaconda3/envs/PyTorch-1.8/bin/python3.7 -m pip install --upgrade pip' command.\u001b[0m\n",
      "Looking in indexes: http://repo.myhuaweicloud.com/repository/pypi/simple\n",
      "Collecting transformers\n",
      "  Downloading http://repo.myhuaweicloud.com/repository/pypi/packages/5b/0b/e45d26ccd28568013523e04f325432ea88a442b4e3020b757cf4361f0120/transformers-4.30.2-py3-none-any.whl (7.2 MB)\n",
      "\u001b[K     |████████████████████████████████| 7.2 MB 44.3 MB/s eta 0:00:01\n",
      "\u001b[?25hCollecting safetensors>=0.3.1\n",
      "  Downloading http://repo.myhuaweicloud.com/repository/pypi/packages/a2/04/e55780fcb9e1a1e4bf22b881146087d9b13f60b9ab1a30c773dd398d5f65/safetensors-0.3.3-cp37-cp37m-manylinux_2_17_x86_64.manylinux2014_x86_64.whl (1.3 MB)\n",
      "\u001b[K     |████████████████████████████████| 1.3 MB 54.5 MB/s eta 0:00:01\n",
      "\u001b[?25hCollecting regex!=2019.12.17\n",
      "  Downloading http://repo.myhuaweicloud.com/repository/pypi/packages/5e/15/4ac85a6ce5c46223e312de2a38137f7ff1e6c5b4b233054cd7e72466345b/regex-2023.5.5-cp37-cp37m-manylinux_2_17_x86_64.manylinux2014_x86_64.whl (756 kB)\n",
      "\u001b[K     |████████████████████████████████| 756 kB 20.1 MB/s eta 0:00:01\n",
      "\u001b[?25hRequirement already satisfied: requests in /home/ma-user/anaconda3/envs/PyTorch-1.8/lib/python3.7/site-packages (from transformers) (2.27.1)\n",
      "Collecting huggingface-hub<1.0,>=0.14.1\n",
      "  Downloading http://repo.myhuaweicloud.com/repository/pypi/packages/7f/c4/adcbe9a696c135578cabcbdd7331332daad4d49b7c43688bc2d36b3a47d2/huggingface_hub-0.16.4-py3-none-any.whl (268 kB)\n",
      "\u001b[K     |████████████████████████████████| 268 kB 59.6 MB/s eta 0:00:01\n",
      "\u001b[?25hCollecting tokenizers!=0.11.3,<0.14,>=0.11.1\n",
      "  Downloading http://repo.myhuaweicloud.com/repository/pypi/packages/4d/40/ab3c3c705e0a8cbbe760c49302b407190201d96fe7dfeea37ccafa004da3/tokenizers-0.13.3-cp37-cp37m-manylinux_2_17_x86_64.manylinux2014_x86_64.whl (7.8 MB)\n",
      "\u001b[K     |████████████████████████████████| 7.8 MB 25.9 MB/s eta 0:00:01\n",
      "\u001b[?25hRequirement already satisfied: importlib-metadata in /home/ma-user/anaconda3/envs/PyTorch-1.8/lib/python3.7/site-packages (from transformers) (5.0.0)\n",
      "Requirement already satisfied: tqdm>=4.27 in /home/ma-user/anaconda3/envs/PyTorch-1.8/lib/python3.7/site-packages (from transformers) (4.64.1)\n",
      "Requirement already satisfied: packaging>=20.0 in /home/ma-user/anaconda3/envs/PyTorch-1.8/lib/python3.7/site-packages (from transformers) (21.3)\n",
      "Requirement already satisfied: pyyaml>=5.1 in /home/ma-user/anaconda3/envs/PyTorch-1.8/lib/python3.7/site-packages (from transformers) (5.1)\n",
      "Requirement already satisfied: numpy>=1.17 in /home/ma-user/anaconda3/envs/PyTorch-1.8/lib/python3.7/site-packages (from transformers) (1.19.5)\n",
      "Requirement already satisfied: filelock in /home/ma-user/anaconda3/envs/PyTorch-1.8/lib/python3.7/site-packages (from transformers) (3.0.12)\n",
      "Collecting fsspec\n",
      "  Downloading http://repo.myhuaweicloud.com/repository/pypi/packages/37/57/eb7c3c10b187d3b8565946772ce0229c79e3c623010eda0aeb5032ff56f4/fsspec-2022.11.0-py3-none-any.whl (139 kB)\n",
      "\u001b[K     |████████████████████████████████| 139 kB 20.0 MB/s eta 0:00:01\n",
      "\u001b[?25hRequirement already satisfied: typing-extensions>=3.7.4.3 in /home/ma-user/anaconda3/envs/PyTorch-1.8/lib/python3.7/site-packages (from huggingface-hub<1.0,>=0.14.1->transformers) (4.4.0)\n",
      "Requirement already satisfied: pyparsing!=3.0.5,>=2.0.2 in /home/ma-user/anaconda3/envs/PyTorch-1.8/lib/python3.7/site-packages (from packaging>=20.0->transformers) (3.0.9)\n",
      "Requirement already satisfied: zipp>=0.5 in /home/ma-user/anaconda3/envs/PyTorch-1.8/lib/python3.7/site-packages (from importlib-metadata->transformers) (3.10.0)\n",
      "Requirement already satisfied: charset-normalizer~=2.0.0 in /home/ma-user/anaconda3/envs/PyTorch-1.8/lib/python3.7/site-packages (from requests->transformers) (2.0.12)\n",
      "Requirement already satisfied: urllib3<1.27,>=1.21.1 in /home/ma-user/anaconda3/envs/PyTorch-1.8/lib/python3.7/site-packages (from requests->transformers) (1.26.12)\n",
      "Requirement already satisfied: idna<4,>=2.5 in /home/ma-user/anaconda3/envs/PyTorch-1.8/lib/python3.7/site-packages (from requests->transformers) (3.4)\n",
      "Requirement already satisfied: certifi>=2017.4.17 in /home/ma-user/anaconda3/envs/PyTorch-1.8/lib/python3.7/site-packages (from requests->transformers) (2022.9.24)\n",
      "Installing collected packages: fsspec, tokenizers, safetensors, regex, huggingface-hub, transformers\n",
      "Successfully installed fsspec-2022.11.0 huggingface-hub-0.16.4 regex-2023.5.5 safetensors-0.3.3 tokenizers-0.13.3 transformers-4.30.2\n",
      "\u001b[33mWARNING: You are using pip version 21.0.1; however, version 23.0.1 is available.\n",
      "You should consider upgrading via the '/home/ma-user/anaconda3/envs/PyTorch-1.8/bin/python3.7 -m pip install --upgrade pip' command.\u001b[0m\n"
     ]
    }
   ],
   "source": [
    "!pip install docopt\n",
    "!pip install transformers"
   ]
  },
  {
   "cell_type": "code",
   "execution_count": null,
   "id": "2bb09c8f-3df9-4953-ac2e-6e4f8a2f6954",
   "metadata": {},
   "outputs": [],
   "source": []
  },
  {
   "cell_type": "code",
   "execution_count": 2,
   "id": "cb55add6-79e8-423f-8078-70dfefb724f5",
   "metadata": {},
   "outputs": [
    {
     "name": "stdout",
     "output_type": "stream",
     "text": [
      "Looking in indexes: https://pypi.python.org/simple\n",
      "Collecting bert-base==0.0.7\n",
      "  Downloading bert_base-0.0.7-py3-none-any.whl (110 kB)\n",
      "\u001b[K     |████████████████████████████████| 110 kB 132 kB/s eta 0:00:01\n",
      "\u001b[?25hRequirement already satisfied: numpy in /home/ma-user/anaconda3/envs/PyTorch-1.8/lib/python3.7/site-packages (from bert-base==0.0.7) (1.19.5)\n",
      "Collecting GPUtil>=1.3.0\n",
      "  Downloading GPUtil-1.4.0.tar.gz (5.5 kB)\n",
      "Collecting termcolor>=1.1\n",
      "  Downloading termcolor-2.3.0-py3-none-any.whl (6.9 kB)\n",
      "Requirement already satisfied: six in /home/ma-user/anaconda3/envs/PyTorch-1.8/lib/python3.7/site-packages (from bert-base==0.0.7) (1.16.0)\n",
      "Requirement already satisfied: pyzmq>=16.0.0 in /home/ma-user/anaconda3/envs/PyTorch-1.8/lib/python3.7/site-packages (from bert-base==0.0.7) (24.0.1)\n",
      "Building wheels for collected packages: GPUtil\n",
      "  Building wheel for GPUtil (setup.py) ... \u001b[?25ldone\n",
      "\u001b[?25h  Created wheel for GPUtil: filename=GPUtil-1.4.0-py3-none-any.whl size=7394 sha256=f14f66fbf91f8f5d3862ba0ed1a85058f3803bd6227774759e491d0b89e0509f\n",
      "  Stored in directory: /home/ma-user/.cache/pip/wheels/6e/f8/83/534c52482d6da64622ddbf72cd93c35d2ef2881b78fd08ff0c\n",
      "Successfully built GPUtil\n",
      "Installing collected packages: termcolor, GPUtil, bert-base\n",
      "Successfully installed GPUtil-1.4.0 bert-base-0.0.7 termcolor-2.3.0\n",
      "\u001b[33mWARNING: You are using pip version 21.0.1; however, version 23.0.1 is available.\n",
      "You should consider upgrading via the '/home/ma-user/anaconda3/envs/PyTorch-1.8/bin/python3.7 -m pip install --upgrade pip' command.\u001b[0m\n"
     ]
    }
   ],
   "source": [
    "!pip install bert-base==0.0.7 -i https://pypi.python.org/simple"
   ]
  },
  {
   "cell_type": "code",
   "execution_count": 45,
   "id": "46d2fc97-9782-48ad-a5c5-e643ef0f32d2",
   "metadata": {},
   "outputs": [
    {
     "data": {
      "text/plain": [
       "'/home/ma-user/work/Package'"
      ]
     },
     "execution_count": 45,
     "metadata": {},
     "output_type": "execute_result"
    }
   ],
   "source": [
    "pwd"
   ]
  },
  {
   "cell_type": "markdown",
   "id": "870c2ad3-56a7-443d-ace1-6a81742a3589",
   "metadata": {},
   "source": [
    "切换至Baseline里的文件目录"
   ]
  },
  {
   "cell_type": "code",
   "execution_count": 48,
   "id": "efc6c37e-7b37-4d68-b266-7e44e57284c0",
   "metadata": {},
   "outputs": [
    {
     "name": "stdout",
     "output_type": "stream",
     "text": [
      "/home/ma-user/work/Package/Baseline/model\n"
     ]
    }
   ],
   "source": [
    "%cd Baseline/model"
   ]
  },
  {
   "cell_type": "markdown",
   "id": "95f86354-c8f6-4bac-80de-7c0f18ad95ba",
   "metadata": {},
   "source": [
    "### 2.构建词典<br>\n",
    "须在代码中替换训练集文件目录（示例：data/train.txt）<br>\n",
    "生成的.json文件自动保存在vocab目录(示例：‘vocab/sent_vocab.json vocab/tag_vocab.json’)"
   ]
  },
  {
   "cell_type": "code",
   "execution_count": 95,
   "id": "69e339b1-9a2f-4512-8276-8b84db10fd3e",
   "metadata": {},
   "outputs": [
    {
     "name": "stdout",
     "output_type": "stream",
     "text": [
      "The number of sentences in train.txt: 25740\n"
     ]
    }
   ],
   "source": [
    "!python utils.py\n",
    "!python vocab.py  data/train.txt  vocab/sent_vocab.json  vocab/tag_vocab.json"
   ]
  },
  {
   "cell_type": "markdown",
   "id": "793da23c-c39c-407a-b20d-f3c1ad8abc51",
   "metadata": {},
   "source": [
    "### 3.模型训练<br>\n",
    "修改epoch数量可以通过修改代码中('--max-epoch=10')中的数字进行修改，如未使用gpu，删除最后的('--cuda')即可，其他具体参数可在run.py查看<br>\n",
    "注意训练集文件目录"
   ]
  },
  {
   "cell_type": "code",
   "execution_count": 97,
   "id": "1185ba22-9c94-43cd-9649-943931e673a6",
   "metadata": {},
   "outputs": [
    {
     "name": "stdout",
     "output_type": "stream",
     "text": [
      "/home/ma-user/anaconda3/envs/PyTorch-1.8/lib/python3.7/site-packages/requests/__init__.py:104: RequestsDependencyWarning: urllib3 (1.26.12) or chardet (5.0.0)/charset_normalizer (2.0.12) doesn't match a supported version!\n",
      "  RequestsDependencyWarning)\n",
      "num of training examples: 20592\n",
      "num of development examples: 5148\n",
      "^C\n"
     ]
    }
   ],
   "source": [
    "!python run.py train data/train.txt vocab/sent_vocab.json vocab/tag_vocab.json  --dropout-rate=0.5 --lr=0.01 --lr-decay=0.8 --max-epoch=300 --batch-size=128 --cuda"
   ]
  },
  {
   "cell_type": "markdown",
   "id": "e0f0c9e6-d0d0-476f-a234-9443429a2be4",
   "metadata": {},
   "source": [
    "\n",
    "\n",
    "### 4.模型测试<br>\n",
    "使用上一步训练的模型在测试集判分<br>\n",
    "如需修改测试集，可替换test.txt，或修改.sh脚本中路径<br>\n",
    "生成结果文件result.txt，可打开查看格式示例"
   ]
  },
  {
   "cell_type": "code",
   "execution_count": 65,
   "id": "97a3632c-4087-4199-be20-1f415058f01c",
   "metadata": {},
   "outputs": [
    {
     "name": "stdout",
     "output_type": "stream",
     "text": [
      "/home/ma-user/anaconda3/envs/PyTorch-1.8/lib/python3.7/site-packages/requests/__init__.py:104: RequestsDependencyWarning: urllib3 (1.26.12) or chardet (5.0.0)/charset_normalizer (2.0.12) doesn't match a supported version!\n",
      "  RequestsDependencyWarning)\n",
      "num of test samples: 27830\n",
      "Some weights of the model checkpoint at pretrained_bert_models/minibert were not used when initializing BertModel: ['cls.predictions.transform.dense.weight', 'cls.predictions.transform.LayerNorm.bias', 'cls.predictions.transform.LayerNorm.weight', 'cls.predictions.transform.dense.bias', 'cls.predictions.bias', 'cls.predictions.decoder.weight', 'cls.predictions.decoder.bias']\n",
      "- This IS expected if you are initializing BertModel from the checkpoint of a model trained on another task or with another architecture (e.g. initializing a BertForSequenceClassification model from a BertForPreTraining model).\n",
      "- This IS NOT expected if you are initializing BertModel from the checkpoint of a model that you expect to be exactly identical (initializing a BertForSequenceClassification model from a BertForSequenceClassification model).\n",
      "Some weights of BertModel were not initialized from the model checkpoint at pretrained_bert_models/minibert and are newly initialized: ['bert.pooler.dense.bias', 'bert.pooler.dense.weight']\n",
      "You should probably TRAIN this model on a down-stream task to be able to use it for predictions and inference.\n",
      "embed_size 256\n",
      "self.bert.config.hidden_size 256\n",
      "12\n",
      "start testing...\n",
      "using device cuda\n",
      "processed 1309927 tokens with 45601 phrases; found: 0 phrases; correct: 0.\n",
      "accuracy:  87.23%; precision:   0.00%; recall:   0.00%; FB1:   0.00\n",
      "             DATE: precision:   0.00%; recall:   0.00%; FB1:   0.00  0\n",
      "              LOC: precision:   0.00%; recall:   0.00%; FB1:   0.00  0\n",
      "              ORG: precision:   0.00%; recall:   0.00%; FB1:   0.00  0\n",
      "              PER: precision:   0.00%; recall:   0.00%; FB1:   0.00  0\n"
     ]
    }
   ],
   "source": [
    "!sh run.sh test"
   ]
  },
  {
   "cell_type": "code",
   "execution_count": 42,
   "id": "ac7626b9-3535-45a1-9a2e-723fb9fa413f",
   "metadata": {},
   "outputs": [
    {
     "name": "stdout",
     "output_type": "stream",
     "text": [
      "/home/ma-user/work/Package\n"
     ]
    }
   ],
   "source": [
    "cd .."
   ]
  },
  {
   "cell_type": "markdown",
   "id": "36171d4e-1c6c-4f93-957f-36cc2a46e5ef",
   "metadata": {},
   "source": [
    "### 5.模型上传至ModelArts-AI应用\n",
    "将训练好的模型导入ModelArts 将模型导入ModelArts，为后续推理测试、模型提交做准备。最后显示“所有模型导入完成”证明运行成功。"
   ]
  },
  {
   "cell_type": "code",
   "execution_count": 46,
   "id": "d7495830-3d01-4d96-8848-dd3afd65fbb6",
   "metadata": {},
   "outputs": [
    {
     "name": "stdout",
     "output_type": "stream",
     "text": [
      "Looking in indexes: http://repo.myhuaweicloud.com/repository/pypi/simple\n",
      "Requirement already satisfied: json5 in /home/ma-user/anaconda3/envs/PyTorch-1.8/lib/python3.7/site-packages (0.9.10)\n",
      "\u001b[33mWARNING: You are using pip version 21.0.1; however, version 23.0.1 is available.\n",
      "You should consider upgrading via the '/home/ma-user/anaconda3/envs/PyTorch-1.8/bin/python3.7 -m pip install --upgrade pip' command.\u001b[0m\n",
      "正在导入模型,模型名称： 1_modelname_883\n",
      "modelarts-cn-north-4-280a6fa6 is existed\n"
     ]
    },
    {
     "name": "stderr",
     "output_type": "stream",
     "text": [
      "INFO:obs:Successfully upload file /home/ma-user/work/Package/Baseline/model to OBS modelarts-cn-north-4-280a6fa6/model-1206-101730\n",
      "INFO:obs:Successfully upload file /home/ma-user/work/Package/Baseline/model/__pycache__ to OBS modelarts-cn-north-4-280a6fa6/model-1206-101730/model\n",
      "INFO:obs:Successfully upload file /home/ma-user/work/Package/Baseline/model/__pycache__ to OBS modelarts-cn-north-4-280a6fa6/model-1206-101730/model\n",
      "INFO:obs:Successfully upload file /home/ma-user/work/Package/Baseline/model/__pycache__ to OBS modelarts-cn-north-4-280a6fa6/model-1206-101730/model\n",
      "INFO:obs:Successfully upload file /home/ma-user/work/Package/Baseline/model/__pycache__ to OBS modelarts-cn-north-4-280a6fa6/model-1206-101730/model\n",
      "INFO:obs:Successfully upload file /home/ma-user/work/Package/Baseline/model to OBS modelarts-cn-north-4-280a6fa6/model-1206-101730\n",
      "INFO:obs:Successfully upload file /home/ma-user/work/Package/Baseline/model to OBS modelarts-cn-north-4-280a6fa6/model-1206-101730\n",
      "INFO:obs:Successfully upload file /home/ma-user/work/Package/Baseline/model/vocab to OBS modelarts-cn-north-4-280a6fa6/model-1206-101730/model\n",
      "INFO:obs:Successfully upload file /home/ma-user/work/Package/Baseline/model/vocab to OBS modelarts-cn-north-4-280a6fa6/model-1206-101730/model\n",
      "INFO:obs:Successfully upload file /home/ma-user/work/Package/Baseline/model/vocab/.ipynb_checkpoints to OBS modelarts-cn-north-4-280a6fa6/model-1206-101730/model/vocab\n",
      "INFO:obs:Successfully upload file /home/ma-user/work/Package/Baseline/model/vocab/.ipynb_checkpoints to OBS modelarts-cn-north-4-280a6fa6/model-1206-101730/model/vocab\n",
      "INFO:obs:Successfully upload file /home/ma-user/work/Package/Baseline/model/vocab to OBS modelarts-cn-north-4-280a6fa6/model-1206-101730/model\n",
      "INFO:obs:Successfully upload file /home/ma-user/work/Package/Baseline/model to OBS modelarts-cn-north-4-280a6fa6/model-1206-101730\n",
      "INFO:obs:Successfully upload file /home/ma-user/work/Package/Baseline/model to OBS modelarts-cn-north-4-280a6fa6/model-1206-101730\n",
      "INFO:obs:Successfully upload file /home/ma-user/work/Package/Baseline/model to OBS modelarts-cn-north-4-280a6fa6/model-1206-101730\n",
      "INFO:obs:Successfully upload file /home/ma-user/work/Package/Baseline/model to OBS modelarts-cn-north-4-280a6fa6/model-1206-101730\n",
      "INFO:obs:Successfully upload file /home/ma-user/work/Package/Baseline/model to OBS modelarts-cn-north-4-280a6fa6/model-1206-101730\n",
      "INFO:obs:Successfully upload file /home/ma-user/work/Package/Baseline/model to OBS modelarts-cn-north-4-280a6fa6/model-1206-101730\n",
      "INFO:obs:Successfully upload file /home/ma-user/work/Package/Baseline/model to OBS modelarts-cn-north-4-280a6fa6/model-1206-101730\n",
      "INFO:obs:Successfully upload file /home/ma-user/work/Package/Baseline/model to OBS modelarts-cn-north-4-280a6fa6/model-1206-101730\n",
      "INFO:obs:Successfully upload file /home/ma-user/work/Package/Baseline/model to OBS modelarts-cn-north-4-280a6fa6/model-1206-101730\n",
      "INFO:obs:Successfully upload file /home/ma-user/work/Package/Baseline/model to OBS modelarts-cn-north-4-280a6fa6/model-1206-101730\n",
      "INFO:obs:Successfully upload file /home/ma-user/work/Package/Baseline/model to OBS modelarts-cn-north-4-280a6fa6/model-1206-101730\n",
      "INFO:obs:Successfully upload file /home/ma-user/work/Package/Baseline/model to OBS modelarts-cn-north-4-280a6fa6/model-1206-101730\n",
      "INFO:obs:Successfully upload file /home/ma-user/work/Package/Baseline/model/.ipynb_checkpoints to OBS modelarts-cn-north-4-280a6fa6/model-1206-101730/model\n",
      "INFO:obs:Successfully upload file /home/ma-user/work/Package/Baseline/model/.ipynb_checkpoints to OBS modelarts-cn-north-4-280a6fa6/model-1206-101730/model\n",
      "INFO:obs:Successfully upload file /home/ma-user/work/Package/Baseline/model/.ipynb_checkpoints to OBS modelarts-cn-north-4-280a6fa6/model-1206-101730/model\n",
      "INFO:obs:Successfully upload file /home/ma-user/work/Package/Baseline/model/.ipynb_checkpoints to OBS modelarts-cn-north-4-280a6fa6/model-1206-101730/model\n",
      "INFO:obs:Successfully upload file /home/ma-user/work/Package/Baseline/model/.ipynb_checkpoints to OBS modelarts-cn-north-4-280a6fa6/model-1206-101730/model\n",
      "INFO:obs:Successfully upload file /home/ma-user/work/Package/Baseline/model/.ipynb_checkpoints to OBS modelarts-cn-north-4-280a6fa6/model-1206-101730/model\n",
      "INFO:obs:Successfully upload file /home/ma-user/work/Package/Baseline/model/.ipynb_checkpoints to OBS modelarts-cn-north-4-280a6fa6/model-1206-101730/model\n",
      "INFO:obs:Successfully upload file /home/ma-user/work/Package/Baseline/model/.ipynb_checkpoints to OBS modelarts-cn-north-4-280a6fa6/model-1206-101730/model\n",
      "INFO:obs:Successfully upload file /home/ma-user/work/Package/Baseline/model/.ipynb_checkpoints to OBS modelarts-cn-north-4-280a6fa6/model-1206-101730/model\n",
      "INFO:obs:Successfully upload file /home/ma-user/work/Package/Baseline/model/.ipynb_checkpoints to OBS modelarts-cn-north-4-280a6fa6/model-1206-101730/model\n",
      "INFO:obs:Successfully upload file /home/ma-user/work/Package/Baseline/model/.ipynb_checkpoints to OBS modelarts-cn-north-4-280a6fa6/model-1206-101730/model\n",
      "INFO:obs:Successfully upload file /home/ma-user/work/Package/Baseline/model/.ipynb_checkpoints to OBS modelarts-cn-north-4-280a6fa6/model-1206-101730/model\n",
      "INFO:obs:Successfully upload file /home/ma-user/work/Package/Baseline/model/.ipynb_checkpoints to OBS modelarts-cn-north-4-280a6fa6/model-1206-101730/model\n",
      "INFO:obs:Successfully upload file /home/ma-user/work/Package/Baseline/model/.ipynb_checkpoints to OBS modelarts-cn-north-4-280a6fa6/model-1206-101730/model\n",
      "INFO:obs:Successfully upload file /home/ma-user/work/Package/Baseline/model/.ipynb_checkpoints to OBS modelarts-cn-north-4-280a6fa6/model-1206-101730/model\n",
      "INFO:obs:Successfully upload file /home/ma-user/work/Package/Baseline/model/.ipynb_checkpoints to OBS modelarts-cn-north-4-280a6fa6/model-1206-101730/model\n",
      "INFO:obs:Successfully upload file /home/ma-user/work/Package/Baseline/model/pretrained_bert_models/minibert to OBS modelarts-cn-north-4-280a6fa6/model-1206-101730/model/pretrained_bert_models\n",
      "INFO:obs:Successfully upload file /home/ma-user/work/Package/Baseline/model/pretrained_bert_models/minibert to OBS modelarts-cn-north-4-280a6fa6/model-1206-101730/model/pretrained_bert_models\n",
      "INFO:obs:Successfully upload file /home/ma-user/work/Package/Baseline/model/pretrained_bert_models/minibert/.ipynb_checkpoints to OBS modelarts-cn-north-4-280a6fa6/model-1206-101730/model/pretrained_bert_models/minibert\n",
      "INFO:obs:Successfully upload file /home/ma-user/work/Package/Baseline/model/pretrained_bert_models/minibert to OBS modelarts-cn-north-4-280a6fa6/model-1206-101730/model/pretrained_bert_models\n",
      "INFO:obs:Successfully upload file /home/ma-user/work/Package/Baseline/model to OBS modelarts-cn-north-4-280a6fa6/model-1206-101730\n",
      "INFO:obs:Successfully upload file /home/ma-user/work/Package/Baseline/model to OBS modelarts-cn-north-4-280a6fa6/model-1206-101730\n",
      "INFO:obs:Successfully upload file /home/ma-user/work/Package/Baseline/model/MiniRBT to OBS modelarts-cn-north-4-280a6fa6/model-1206-101730/model\n",
      "INFO:obs:Successfully upload file /home/ma-user/work/Package/Baseline/model/MiniRBT/pretraining to OBS modelarts-cn-north-4-280a6fa6/model-1206-101730/model/MiniRBT\n",
      "INFO:obs:Successfully upload file /home/ma-user/work/Package/Baseline/model/MiniRBT/pretraining to OBS modelarts-cn-north-4-280a6fa6/model-1206-101730/model/MiniRBT\n",
      "INFO:obs:Successfully upload file /home/ma-user/work/Package/Baseline/model/MiniRBT/pretraining to OBS modelarts-cn-north-4-280a6fa6/model-1206-101730/model/MiniRBT\n",
      "INFO:obs:Successfully upload file /home/ma-user/work/Package/Baseline/model/MiniRBT/pretraining to OBS modelarts-cn-north-4-280a6fa6/model-1206-101730/model/MiniRBT\n",
      "INFO:obs:Successfully upload file /home/ma-user/work/Package/Baseline/model/MiniRBT/pretraining to OBS modelarts-cn-north-4-280a6fa6/model-1206-101730/model/MiniRBT\n",
      "INFO:obs:Successfully upload file /home/ma-user/work/Package/Baseline/model/MiniRBT/pretraining/distill_configs to OBS modelarts-cn-north-4-280a6fa6/model-1206-101730/model/MiniRBT/pretraining\n",
      "INFO:obs:Successfully upload file /home/ma-user/work/Package/Baseline/model/MiniRBT/pretraining/distill_configs to OBS modelarts-cn-north-4-280a6fa6/model-1206-101730/model/MiniRBT/pretraining\n",
      "INFO:obs:Successfully upload file /home/ma-user/work/Package/Baseline/model/MiniRBT/pretraining/distill_configs to OBS modelarts-cn-north-4-280a6fa6/model-1206-101730/model/MiniRBT/pretraining\n",
      "INFO:obs:Successfully upload file /home/ma-user/work/Package/Baseline/model/MiniRBT/pretraining/distill_configs to OBS modelarts-cn-north-4-280a6fa6/model-1206-101730/model/MiniRBT/pretraining\n",
      "INFO:obs:Successfully upload file /home/ma-user/work/Package/Baseline/model/MiniRBT/pretraining to OBS modelarts-cn-north-4-280a6fa6/model-1206-101730/model/MiniRBT\n",
      "INFO:obs:Successfully upload file /home/ma-user/work/Package/Baseline/model/MiniRBT/pretraining/saves to OBS modelarts-cn-north-4-280a6fa6/model-1206-101730/model/MiniRBT/pretraining\n",
      "INFO:obs:Successfully upload file /home/ma-user/work/Package/Baseline/model/MiniRBT/pretraining to OBS modelarts-cn-north-4-280a6fa6/model-1206-101730/model/MiniRBT\n",
      "INFO:obs:Successfully upload file /home/ma-user/work/Package/Baseline/model/MiniRBT/pretraining/jsons to OBS modelarts-cn-north-4-280a6fa6/model-1206-101730/model/MiniRBT/pretraining\n",
      "INFO:obs:Successfully upload file /home/ma-user/work/Package/Baseline/model/MiniRBT/pretraining/pretrained_model_path/RoBERTa to OBS modelarts-cn-north-4-280a6fa6/model-1206-101730/model/MiniRBT/pretraining/pretrained_model_path\n",
      "INFO:obs:Successfully upload file /home/ma-user/work/Package/Baseline/model/MiniRBT/pretraining/pretrained_model_path/ltp to OBS modelarts-cn-north-4-280a6fa6/model-1206-101730/model/MiniRBT/pretraining/pretrained_model_path\n",
      "INFO:obs:Successfully upload file /home/ma-user/work/Package/Baseline/model/MiniRBT/pretraining/dataset/train/ref_files to OBS modelarts-cn-north-4-280a6fa6/model-1206-101730/model/MiniRBT/pretraining/dataset/train\n",
      "INFO:obs:Successfully upload file /home/ma-user/work/Package/Baseline/model/MiniRBT/pretraining/dataset/train/ref_files to OBS modelarts-cn-north-4-280a6fa6/model-1206-101730/model/MiniRBT/pretraining/dataset/train\n",
      "INFO:obs:Successfully upload file /home/ma-user/work/Package/Baseline/model/MiniRBT/pretraining/dataset/train/train_files to OBS modelarts-cn-north-4-280a6fa6/model-1206-101730/model/MiniRBT/pretraining/dataset/train\n",
      "INFO:obs:Successfully upload file /home/ma-user/work/Package/Baseline/model/MiniRBT/pretraining/dataset/train/train_files to OBS modelarts-cn-north-4-280a6fa6/model-1206-101730/model/MiniRBT/pretraining/dataset/train\n",
      "INFO:obs:Successfully upload file /home/ma-user/work/Package/Baseline/model/MiniRBT/pretraining/dataset/dev to OBS modelarts-cn-north-4-280a6fa6/model-1206-101730/model/MiniRBT/pretraining/dataset\n",
      "INFO:obs:Successfully upload file /home/ma-user/work/Package/Baseline/model/MiniRBT/pretraining to OBS modelarts-cn-north-4-280a6fa6/model-1206-101730/model/MiniRBT\n",
      "INFO:obs:Successfully upload file /home/ma-user/work/Package/Baseline/model/MiniRBT/pretraining/scripts to OBS modelarts-cn-north-4-280a6fa6/model-1206-101730/model/MiniRBT/pretraining\n",
      "INFO:obs:Successfully upload file /home/ma-user/work/Package/Baseline/model/MiniRBT to OBS modelarts-cn-north-4-280a6fa6/model-1206-101730/model\n",
      "INFO:obs:Successfully upload file /home/ma-user/work/Package/Baseline/model/MiniRBT to OBS modelarts-cn-north-4-280a6fa6/model-1206-101730/model\n",
      "INFO:obs:Successfully upload file /home/ma-user/work/Package/Baseline/model/MiniRBT to OBS modelarts-cn-north-4-280a6fa6/model-1206-101730/model\n",
      "INFO:obs:Successfully upload file /home/ma-user/work/Package/Baseline/model/MiniRBT/.github to OBS modelarts-cn-north-4-280a6fa6/model-1206-101730/model/MiniRBT\n",
      "INFO:obs:Successfully upload file /home/ma-user/work/Package/Baseline/model/MiniRBT/.ipynb_checkpoints to OBS modelarts-cn-north-4-280a6fa6/model-1206-101730/model/MiniRBT\n",
      "INFO:obs:Successfully upload file /home/ma-user/work/Package/Baseline/model/MiniRBT/.ipynb_checkpoints to OBS modelarts-cn-north-4-280a6fa6/model-1206-101730/model/MiniRBT\n",
      "INFO:obs:Successfully upload file /home/ma-user/work/Package/Baseline/model/MiniRBT/pics to OBS modelarts-cn-north-4-280a6fa6/model-1206-101730/model/MiniRBT\n",
      "INFO:obs:Successfully upload file /home/ma-user/work/Package/Baseline/model/MiniRBT/.git to OBS modelarts-cn-north-4-280a6fa6/model-1206-101730/model/MiniRBT\n",
      "INFO:obs:Successfully upload file /home/ma-user/work/Package/Baseline/model/MiniRBT/.git to OBS modelarts-cn-north-4-280a6fa6/model-1206-101730/model/MiniRBT\n",
      "INFO:obs:Successfully upload file /home/ma-user/work/Package/Baseline/model/MiniRBT/.git/objects/77 to OBS modelarts-cn-north-4-280a6fa6/model-1206-101730/model/MiniRBT/.git/objects\n",
      "INFO:obs:Successfully upload file /home/ma-user/work/Package/Baseline/model/MiniRBT/.git/objects/20 to OBS modelarts-cn-north-4-280a6fa6/model-1206-101730/model/MiniRBT/.git/objects\n",
      "INFO:obs:Successfully upload file /home/ma-user/work/Package/Baseline/model/MiniRBT/.git/objects/a5 to OBS modelarts-cn-north-4-280a6fa6/model-1206-101730/model/MiniRBT/.git/objects\n",
      "INFO:obs:Successfully upload file /home/ma-user/work/Package/Baseline/model/MiniRBT/.git/objects/8d to OBS modelarts-cn-north-4-280a6fa6/model-1206-101730/model/MiniRBT/.git/objects\n",
      "INFO:obs:Successfully upload file /home/ma-user/work/Package/Baseline/model/MiniRBT/.git/objects/6f to OBS modelarts-cn-north-4-280a6fa6/model-1206-101730/model/MiniRBT/.git/objects\n",
      "INFO:obs:Successfully upload file /home/ma-user/work/Package/Baseline/model/MiniRBT/.git/objects/fb to OBS modelarts-cn-north-4-280a6fa6/model-1206-101730/model/MiniRBT/.git/objects\n",
      "INFO:obs:Successfully upload file /home/ma-user/work/Package/Baseline/model/MiniRBT/.git/objects/fb to OBS modelarts-cn-north-4-280a6fa6/model-1206-101730/model/MiniRBT/.git/objects\n",
      "INFO:obs:Successfully upload file /home/ma-user/work/Package/Baseline/model/MiniRBT/.git/objects/fc to OBS modelarts-cn-north-4-280a6fa6/model-1206-101730/model/MiniRBT/.git/objects\n",
      "INFO:obs:Successfully upload file /home/ma-user/work/Package/Baseline/model/MiniRBT/.git/objects/cf to OBS modelarts-cn-north-4-280a6fa6/model-1206-101730/model/MiniRBT/.git/objects\n",
      "INFO:obs:Successfully upload file /home/ma-user/work/Package/Baseline/model/MiniRBT/.git/objects/e2 to OBS modelarts-cn-north-4-280a6fa6/model-1206-101730/model/MiniRBT/.git/objects\n",
      "INFO:obs:Successfully upload file /home/ma-user/work/Package/Baseline/model/MiniRBT/.git/objects/46 to OBS modelarts-cn-north-4-280a6fa6/model-1206-101730/model/MiniRBT/.git/objects\n",
      "INFO:obs:Successfully upload file /home/ma-user/work/Package/Baseline/model/MiniRBT/.git/objects/93 to OBS modelarts-cn-north-4-280a6fa6/model-1206-101730/model/MiniRBT/.git/objects\n",
      "INFO:obs:Successfully upload file /home/ma-user/work/Package/Baseline/model/MiniRBT/.git/objects/41 to OBS modelarts-cn-north-4-280a6fa6/model-1206-101730/model/MiniRBT/.git/objects\n",
      "INFO:obs:Successfully upload file /home/ma-user/work/Package/Baseline/model/MiniRBT/.git/objects/41 to OBS modelarts-cn-north-4-280a6fa6/model-1206-101730/model/MiniRBT/.git/objects\n",
      "INFO:obs:Successfully upload file /home/ma-user/work/Package/Baseline/model/MiniRBT/.git/objects/c9 to OBS modelarts-cn-north-4-280a6fa6/model-1206-101730/model/MiniRBT/.git/objects\n",
      "INFO:obs:Successfully upload file /home/ma-user/work/Package/Baseline/model/MiniRBT/.git/objects/d9 to OBS modelarts-cn-north-4-280a6fa6/model-1206-101730/model/MiniRBT/.git/objects\n",
      "INFO:obs:Successfully upload file /home/ma-user/work/Package/Baseline/model/MiniRBT/.git/objects/fd to OBS modelarts-cn-north-4-280a6fa6/model-1206-101730/model/MiniRBT/.git/objects\n",
      "INFO:obs:Successfully upload file /home/ma-user/work/Package/Baseline/model/MiniRBT/.git/objects/b6 to OBS modelarts-cn-north-4-280a6fa6/model-1206-101730/model/MiniRBT/.git/objects\n",
      "INFO:obs:Successfully upload file /home/ma-user/work/Package/Baseline/model/MiniRBT/.git/objects/d1 to OBS modelarts-cn-north-4-280a6fa6/model-1206-101730/model/MiniRBT/.git/objects\n",
      "INFO:obs:Successfully upload file /home/ma-user/work/Package/Baseline/model/MiniRBT/.git/objects/23 to OBS modelarts-cn-north-4-280a6fa6/model-1206-101730/model/MiniRBT/.git/objects\n",
      "INFO:obs:Successfully upload file /home/ma-user/work/Package/Baseline/model/MiniRBT/.git/objects/23 to OBS modelarts-cn-north-4-280a6fa6/model-1206-101730/model/MiniRBT/.git/objects\n",
      "INFO:obs:Successfully upload file /home/ma-user/work/Package/Baseline/model/MiniRBT/.git/objects/e6 to OBS modelarts-cn-north-4-280a6fa6/model-1206-101730/model/MiniRBT/.git/objects\n",
      "INFO:obs:Successfully upload file /home/ma-user/work/Package/Baseline/model/MiniRBT/.git/objects/71 to OBS modelarts-cn-north-4-280a6fa6/model-1206-101730/model/MiniRBT/.git/objects\n",
      "INFO:obs:Successfully upload file /home/ma-user/work/Package/Baseline/model/MiniRBT/.git/objects/2a to OBS modelarts-cn-north-4-280a6fa6/model-1206-101730/model/MiniRBT/.git/objects\n",
      "INFO:obs:Successfully upload file /home/ma-user/work/Package/Baseline/model/MiniRBT/.git/objects/26 to OBS modelarts-cn-north-4-280a6fa6/model-1206-101730/model/MiniRBT/.git/objects\n",
      "INFO:obs:Successfully upload file /home/ma-user/work/Package/Baseline/model/MiniRBT/.git/objects/08 to OBS modelarts-cn-north-4-280a6fa6/model-1206-101730/model/MiniRBT/.git/objects\n",
      "INFO:obs:Successfully upload file /home/ma-user/work/Package/Baseline/model/MiniRBT/.git/objects/39 to OBS modelarts-cn-north-4-280a6fa6/model-1206-101730/model/MiniRBT/.git/objects\n",
      "INFO:obs:Successfully upload file /home/ma-user/work/Package/Baseline/model/MiniRBT/.git/objects/f9 to OBS modelarts-cn-north-4-280a6fa6/model-1206-101730/model/MiniRBT/.git/objects\n",
      "INFO:obs:Successfully upload file /home/ma-user/work/Package/Baseline/model/MiniRBT/.git/objects/d2 to OBS modelarts-cn-north-4-280a6fa6/model-1206-101730/model/MiniRBT/.git/objects\n",
      "INFO:obs:Successfully upload file /home/ma-user/work/Package/Baseline/model/MiniRBT/.git/objects/2c to OBS modelarts-cn-north-4-280a6fa6/model-1206-101730/model/MiniRBT/.git/objects\n",
      "INFO:obs:Successfully upload file /home/ma-user/work/Package/Baseline/model/MiniRBT/.git/objects/a6 to OBS modelarts-cn-north-4-280a6fa6/model-1206-101730/model/MiniRBT/.git/objects\n",
      "INFO:obs:Successfully upload file /home/ma-user/work/Package/Baseline/model/MiniRBT/.git/objects/40 to OBS modelarts-cn-north-4-280a6fa6/model-1206-101730/model/MiniRBT/.git/objects\n",
      "INFO:obs:Successfully upload file /home/ma-user/work/Package/Baseline/model/MiniRBT/.git/objects/00 to OBS modelarts-cn-north-4-280a6fa6/model-1206-101730/model/MiniRBT/.git/objects\n",
      "INFO:obs:Successfully upload file /home/ma-user/work/Package/Baseline/model/MiniRBT/.git/objects/1f to OBS modelarts-cn-north-4-280a6fa6/model-1206-101730/model/MiniRBT/.git/objects\n",
      "INFO:obs:Successfully upload file /home/ma-user/work/Package/Baseline/model/MiniRBT/.git/objects/32 to OBS modelarts-cn-north-4-280a6fa6/model-1206-101730/model/MiniRBT/.git/objects\n",
      "INFO:obs:Successfully upload file /home/ma-user/work/Package/Baseline/model/MiniRBT/.git/objects/bb to OBS modelarts-cn-north-4-280a6fa6/model-1206-101730/model/MiniRBT/.git/objects\n",
      "INFO:obs:Successfully upload file /home/ma-user/work/Package/Baseline/model/MiniRBT/.git/objects/cb to OBS modelarts-cn-north-4-280a6fa6/model-1206-101730/model/MiniRBT/.git/objects\n",
      "INFO:obs:Successfully upload file /home/ma-user/work/Package/Baseline/model/MiniRBT/.git/objects/01 to OBS modelarts-cn-north-4-280a6fa6/model-1206-101730/model/MiniRBT/.git/objects\n",
      "INFO:obs:Successfully upload file /home/ma-user/work/Package/Baseline/model/MiniRBT/.git/objects/19 to OBS modelarts-cn-north-4-280a6fa6/model-1206-101730/model/MiniRBT/.git/objects\n",
      "INFO:obs:Successfully upload file /home/ma-user/work/Package/Baseline/model/MiniRBT/.git/objects/38 to OBS modelarts-cn-north-4-280a6fa6/model-1206-101730/model/MiniRBT/.git/objects\n",
      "INFO:obs:Successfully upload file /home/ma-user/work/Package/Baseline/model/MiniRBT/.git/objects/9c to OBS modelarts-cn-north-4-280a6fa6/model-1206-101730/model/MiniRBT/.git/objects\n",
      "INFO:obs:Successfully upload file /home/ma-user/work/Package/Baseline/model/MiniRBT/.git/objects/43 to OBS modelarts-cn-north-4-280a6fa6/model-1206-101730/model/MiniRBT/.git/objects\n",
      "INFO:obs:Successfully upload file /home/ma-user/work/Package/Baseline/model/MiniRBT/.git/objects/43 to OBS modelarts-cn-north-4-280a6fa6/model-1206-101730/model/MiniRBT/.git/objects\n",
      "INFO:obs:Successfully upload file /home/ma-user/work/Package/Baseline/model/MiniRBT/.git/objects/ad to OBS modelarts-cn-north-4-280a6fa6/model-1206-101730/model/MiniRBT/.git/objects\n",
      "INFO:obs:Successfully upload file /home/ma-user/work/Package/Baseline/model/MiniRBT/.git/objects/b4 to OBS modelarts-cn-north-4-280a6fa6/model-1206-101730/model/MiniRBT/.git/objects\n",
      "INFO:obs:Successfully upload file /home/ma-user/work/Package/Baseline/model/MiniRBT/.git/objects/62 to OBS modelarts-cn-north-4-280a6fa6/model-1206-101730/model/MiniRBT/.git/objects\n",
      "INFO:obs:Successfully upload file /home/ma-user/work/Package/Baseline/model/MiniRBT/.git/objects/50 to OBS modelarts-cn-north-4-280a6fa6/model-1206-101730/model/MiniRBT/.git/objects\n",
      "INFO:obs:Successfully upload file /home/ma-user/work/Package/Baseline/model/MiniRBT/.git/objects/35 to OBS modelarts-cn-north-4-280a6fa6/model-1206-101730/model/MiniRBT/.git/objects\n",
      "INFO:obs:Successfully upload file /home/ma-user/work/Package/Baseline/model/MiniRBT/.git/objects/76 to OBS modelarts-cn-north-4-280a6fa6/model-1206-101730/model/MiniRBT/.git/objects\n",
      "INFO:obs:Successfully upload file /home/ma-user/work/Package/Baseline/model/MiniRBT/.git/objects/b7 to OBS modelarts-cn-north-4-280a6fa6/model-1206-101730/model/MiniRBT/.git/objects\n",
      "INFO:obs:Successfully upload file /home/ma-user/work/Package/Baseline/model/MiniRBT/.git/objects/05 to OBS modelarts-cn-north-4-280a6fa6/model-1206-101730/model/MiniRBT/.git/objects\n",
      "INFO:obs:Successfully upload file /home/ma-user/work/Package/Baseline/model/MiniRBT/.git/objects/c1 to OBS modelarts-cn-north-4-280a6fa6/model-1206-101730/model/MiniRBT/.git/objects\n",
      "INFO:obs:Successfully upload file /home/ma-user/work/Package/Baseline/model/MiniRBT/.git/objects/d5 to OBS modelarts-cn-north-4-280a6fa6/model-1206-101730/model/MiniRBT/.git/objects\n",
      "INFO:obs:Successfully upload file /home/ma-user/work/Package/Baseline/model/MiniRBT/.git/objects/25 to OBS modelarts-cn-north-4-280a6fa6/model-1206-101730/model/MiniRBT/.git/objects\n",
      "INFO:obs:Successfully upload file /home/ma-user/work/Package/Baseline/model/MiniRBT/.git/objects/36 to OBS modelarts-cn-north-4-280a6fa6/model-1206-101730/model/MiniRBT/.git/objects\n",
      "INFO:obs:Successfully upload file /home/ma-user/work/Package/Baseline/model/MiniRBT/.git/objects/c6 to OBS modelarts-cn-north-4-280a6fa6/model-1206-101730/model/MiniRBT/.git/objects\n",
      "INFO:obs:Successfully upload file /home/ma-user/work/Package/Baseline/model/MiniRBT/.git/objects/79 to OBS modelarts-cn-north-4-280a6fa6/model-1206-101730/model/MiniRBT/.git/objects\n",
      "INFO:obs:Successfully upload file /home/ma-user/work/Package/Baseline/model/MiniRBT/.git/objects/7b to OBS modelarts-cn-north-4-280a6fa6/model-1206-101730/model/MiniRBT/.git/objects\n",
      "INFO:obs:Successfully upload file /home/ma-user/work/Package/Baseline/model/MiniRBT/.git/objects/8a to OBS modelarts-cn-north-4-280a6fa6/model-1206-101730/model/MiniRBT/.git/objects\n",
      "INFO:obs:Successfully upload file /home/ma-user/work/Package/Baseline/model/MiniRBT/.git/objects/a4 to OBS modelarts-cn-north-4-280a6fa6/model-1206-101730/model/MiniRBT/.git/objects\n",
      "INFO:obs:Successfully upload file /home/ma-user/work/Package/Baseline/model/MiniRBT/.git/objects/df to OBS modelarts-cn-north-4-280a6fa6/model-1206-101730/model/MiniRBT/.git/objects\n",
      "INFO:obs:Successfully upload file /home/ma-user/work/Package/Baseline/model/MiniRBT/.git/objects/5c to OBS modelarts-cn-north-4-280a6fa6/model-1206-101730/model/MiniRBT/.git/objects\n",
      "INFO:obs:Successfully upload file /home/ma-user/work/Package/Baseline/model/MiniRBT/.git/objects/f8 to OBS modelarts-cn-north-4-280a6fa6/model-1206-101730/model/MiniRBT/.git/objects\n",
      "INFO:obs:Successfully upload file /home/ma-user/work/Package/Baseline/model/MiniRBT/.git/objects/02 to OBS modelarts-cn-north-4-280a6fa6/model-1206-101730/model/MiniRBT/.git/objects\n",
      "INFO:obs:Successfully upload file /home/ma-user/work/Package/Baseline/model/MiniRBT/.git/objects/99 to OBS modelarts-cn-north-4-280a6fa6/model-1206-101730/model/MiniRBT/.git/objects\n",
      "INFO:obs:Successfully upload file /home/ma-user/work/Package/Baseline/model/MiniRBT/.git/objects/8c to OBS modelarts-cn-north-4-280a6fa6/model-1206-101730/model/MiniRBT/.git/objects\n",
      "INFO:obs:Successfully upload file /home/ma-user/work/Package/Baseline/model/MiniRBT/.git to OBS modelarts-cn-north-4-280a6fa6/model-1206-101730/model/MiniRBT\n",
      "INFO:obs:Successfully upload file /home/ma-user/work/Package/Baseline/model/MiniRBT/.git/info to OBS modelarts-cn-north-4-280a6fa6/model-1206-101730/model/MiniRBT/.git\n",
      "INFO:obs:Successfully upload file /home/ma-user/work/Package/Baseline/model/MiniRBT/.git to OBS modelarts-cn-north-4-280a6fa6/model-1206-101730/model/MiniRBT\n",
      "INFO:obs:Successfully upload file /home/ma-user/work/Package/Baseline/model/MiniRBT/.git/hooks to OBS modelarts-cn-north-4-280a6fa6/model-1206-101730/model/MiniRBT/.git\n",
      "INFO:obs:Successfully upload file /home/ma-user/work/Package/Baseline/model/MiniRBT/.git/hooks to OBS modelarts-cn-north-4-280a6fa6/model-1206-101730/model/MiniRBT/.git\n",
      "INFO:obs:Successfully upload file /home/ma-user/work/Package/Baseline/model/MiniRBT/.git/hooks to OBS modelarts-cn-north-4-280a6fa6/model-1206-101730/model/MiniRBT/.git\n",
      "INFO:obs:Successfully upload file /home/ma-user/work/Package/Baseline/model/MiniRBT/.git/hooks to OBS modelarts-cn-north-4-280a6fa6/model-1206-101730/model/MiniRBT/.git\n",
      "INFO:obs:Successfully upload file /home/ma-user/work/Package/Baseline/model/MiniRBT/.git/hooks to OBS modelarts-cn-north-4-280a6fa6/model-1206-101730/model/MiniRBT/.git\n",
      "INFO:obs:Successfully upload file /home/ma-user/work/Package/Baseline/model/MiniRBT/.git/hooks to OBS modelarts-cn-north-4-280a6fa6/model-1206-101730/model/MiniRBT/.git\n",
      "INFO:obs:Successfully upload file /home/ma-user/work/Package/Baseline/model/MiniRBT/.git/hooks to OBS modelarts-cn-north-4-280a6fa6/model-1206-101730/model/MiniRBT/.git\n",
      "INFO:obs:Successfully upload file /home/ma-user/work/Package/Baseline/model/MiniRBT/.git/hooks to OBS modelarts-cn-north-4-280a6fa6/model-1206-101730/model/MiniRBT/.git\n",
      "INFO:obs:Successfully upload file /home/ma-user/work/Package/Baseline/model/MiniRBT/.git/hooks to OBS modelarts-cn-north-4-280a6fa6/model-1206-101730/model/MiniRBT/.git\n",
      "INFO:obs:Successfully upload file /home/ma-user/work/Package/Baseline/model/MiniRBT/.git/hooks to OBS modelarts-cn-north-4-280a6fa6/model-1206-101730/model/MiniRBT/.git\n",
      "INFO:obs:Successfully upload file /home/ma-user/work/Package/Baseline/model/MiniRBT/.git/hooks to OBS modelarts-cn-north-4-280a6fa6/model-1206-101730/model/MiniRBT/.git\n",
      "INFO:obs:Successfully upload file /home/ma-user/work/Package/Baseline/model/MiniRBT/.git/refs/heads to OBS modelarts-cn-north-4-280a6fa6/model-1206-101730/model/MiniRBT/.git/refs\n",
      "INFO:obs:Successfully upload file /home/ma-user/work/Package/Baseline/model/MiniRBT/.git/refs/remotes/origin to OBS modelarts-cn-north-4-280a6fa6/model-1206-101730/model/MiniRBT/.git/refs/remotes\n",
      "INFO:obs:Successfully upload file /home/ma-user/work/Package/Baseline/model/MiniRBT/.git/logs to OBS modelarts-cn-north-4-280a6fa6/model-1206-101730/model/MiniRBT/.git\n",
      "INFO:obs:Successfully upload file /home/ma-user/work/Package/Baseline/model/MiniRBT/.git/logs/refs/heads to OBS modelarts-cn-north-4-280a6fa6/model-1206-101730/model/MiniRBT/.git/logs/refs\n",
      "INFO:obs:Successfully upload file /home/ma-user/work/Package/Baseline/model/MiniRBT/.git/logs/refs/remotes/origin to OBS modelarts-cn-north-4-280a6fa6/model-1206-101730/model/MiniRBT/.git/logs/refs/remotes\n",
      "INFO:obs:Successfully upload file /home/ma-user/work/Package/Baseline/model/MiniRBT/.git to OBS modelarts-cn-north-4-280a6fa6/model-1206-101730/model/MiniRBT\n",
      "INFO:obs:Successfully upload file /home/ma-user/work/Package/Baseline/model to OBS modelarts-cn-north-4-280a6fa6/model-1206-101730\n",
      "INFO:obs:Successfully upload file /home/ma-user/work/Package/Baseline/model/data to OBS modelarts-cn-north-4-280a6fa6/model-1206-101730/model\n",
      "INFO:obs:Successfully upload file /home/ma-user/work/Package/Baseline/model/data to OBS modelarts-cn-north-4-280a6fa6/model-1206-101730/model\n",
      "INFO:obs:Successfully upload file /home/ma-user/work/Package/Baseline/model/data to OBS modelarts-cn-north-4-280a6fa6/model-1206-101730/model\n",
      "INFO:obs:Successfully upload file /home/ma-user/work/Package/Baseline/model/data/.ipynb_checkpoints to OBS modelarts-cn-north-4-280a6fa6/model-1206-101730/model/data\n",
      "INFO:obs:Successfully upload file /home/ma-user/work/Package/Baseline/model/data/.ipynb_checkpoints to OBS modelarts-cn-north-4-280a6fa6/model-1206-101730/model/data\n",
      "INFO:obs:Successfully upload file /home/ma-user/work/Package/Baseline/model/data/.ipynb_checkpoints to OBS modelarts-cn-north-4-280a6fa6/model-1206-101730/model/data\n",
      "INFO:obs:Successfully upload file /home/ma-user/work/Package/Baseline/model/data to OBS modelarts-cn-north-4-280a6fa6/model-1206-101730/model\n",
      "INFO:obs:Successfully upload file /home/ma-user/work/Package/Baseline/model to OBS modelarts-cn-north-4-280a6fa6/model-1206-101730\n",
      "INFO:obs:Successfully upload file /home/ma-user/work/Package/Baseline/model to OBS modelarts-cn-north-4-280a6fa6/model-1206-101730\n"
     ]
    },
    {
     "name": "stdout",
     "output_type": "stream",
     "text": [
      "Successfully upload file /home/ma-user/work/Package/Baseline/model to OBS modelarts-cn-north-4-280a6fa6/model-1206-101730\n",
      "Successfully upload model files from /home/ma-user/work/Package/Baseline/model to obs path /modelarts-cn-north-4-280a6fa6/model-1206-101730.\n",
      "The model source location is https://modelarts-cn-north-4-280a6fa6.obs.cn-north-4.myhuaweicloud.com/model-1206-101730/model\n",
      "publishing\n",
      "published\n",
      "所有模型导入完成\n"
     ]
    }
   ],
   "source": [
    "from modelarts.session import Session\n",
    "from modelarts.model import Model\n",
    "from modelarts.config.model_config import TransformerConfig,Params\n",
    "!pip install json5\n",
    "import json5\n",
    "import re\n",
    "import traceback\n",
    "import random\n",
    "import moxing as mox\n",
    "\n",
    "try:\n",
    "    session = Session()\n",
    "    config_path = 'Baseline/model/config.json'  #注意config.json路径\n",
    "    if mox.file.exists(config_path): # 判断一下是否存在配置文件，如果没有则不能导入模型\n",
    "        model_location =  'Baseline/model'\n",
    "        model_name = \"1_modelname\" #模型名称可自行定义\n",
    "        load_dict = json5.loads(mox.file.read(config_path))\n",
    "        model_type = load_dict['model_type']\n",
    "        re_name = '_'+str(random.randint(0,1000))\n",
    "        model_name += re_name\n",
    "        runtime=load_dict['runtime']\n",
    "        print(\"正在导入模型,模型名称：\", model_name)\n",
    "        model_instance = Model(\n",
    "                     session, \n",
    "                     model_name=model_name,               # 模型名称\n",
    "                     model_version=\"1.0.0\",               # 模型版本\n",
    "                      source_location_type='LOCAL_SOURCE',\n",
    "                     source_location=model_location,      # 模型文件路径\n",
    "                     model_type=model_type,# 模型类型\n",
    "                     runtime=runtime\n",
    "                     )\n",
    "\n",
    "    print(\"所有模型导入完成\")\n",
    "except Exception as e:\n",
    "    print(\"发生了一些问题，请看下面的报错信息：\") \n",
    "    traceback.print_exc()\n",
    "    print(\"模型导入失败\")"
   ]
  },
  {
   "cell_type": "code",
   "execution_count": null,
   "id": "2d3be0bd-3717-4df8-a633-3b3b8600ad6d",
   "metadata": {},
   "outputs": [],
   "source": []
  }
 ],
 "metadata": {
  "kernelspec": {
   "display_name": "PyTorch-1.8",
   "language": "python",
   "name": "pytorch-1.8"
  },
  "language_info": {
   "codemirror_mode": {
    "name": "ipython",
    "version": 3
   },
   "file_extension": ".py",
   "mimetype": "text/x-python",
   "name": "python",
   "nbconvert_exporter": "python",
   "pygments_lexer": "ipython3",
   "version": "3.7.10"
  }
 },
 "nbformat": 4,
 "nbformat_minor": 5
}
